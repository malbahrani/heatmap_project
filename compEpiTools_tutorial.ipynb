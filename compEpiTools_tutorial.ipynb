{
 "cells": [
  {
   "cell_type": "code",
   "execution_count": 2,
   "metadata": {
    "scrolled": true
   },
   "outputs": [
    {
     "name": "stderr",
     "output_type": "stream",
     "text": [
      "BioC_mirror: https://bioconductor.org\n",
      "Using Bioconductor 3.5 (BiocInstaller 1.26.1), R 3.4.1 (2017-06-30).\n",
      "Installing package(s) 'compEpiTools'\n",
      "also installing the dependencies 'checkmate', 'viridisLite', 'interactiveDisplayBase', 'Formula', 'acepack', 'gridExtra', 'htmlTable', 'viridis', 'AnnotationHub', 'ProtGenerics', 'bit', 'lambda.r', 'futile.options', 'Hmisc', 'VariantAnnotation', 'ensembldb', 'AnnotationFilter', 'bit64', 'blob', 'memoise', 'futile.logger', 'snow', 'XML', 'DelayedArray', 'limma', 'BSgenome', 'biovizBase', 'latticeExtra', 'graph', 'Biobase', 'matrixStats', 'RSQLite', 'zlibbioc', 'BiocParallel', 'gtools', 'gdata', 'RCurl', 'rtracklayer', 'biomaRt', 'SummarizedExperiment', 'marray', 'Gviz', 'GenomicAlignments', 'GenomeInfoDbData', 'topGO', 'GenomicRanges', 'AnnotationDbi', 'BiocGenerics', 'Biostrings', 'Rsamtools', 'gplots', 'IRanges', 'GenomicFeatures', 'XVector', 'methylPipe', 'GO.db', 'S4Vectors', 'GenomeInfoDb'\n",
      "\n"
     ]
    },
    {
     "name": "stdout",
     "output_type": "stream",
     "text": [
      "\n",
      "  There is a binary version available but the source version is later:\n",
      "            binary source needs_compilation\n",
      "rtracklayer 1.36.4 1.36.5              TRUE\n",
      "\n",
      "  Binaries will be installed\n",
      "package 'checkmate' successfully unpacked and MD5 sums checked\n",
      "package 'viridisLite' successfully unpacked and MD5 sums checked\n",
      "package 'interactiveDisplayBase' successfully unpacked and MD5 sums checked\n",
      "package 'Formula' successfully unpacked and MD5 sums checked\n",
      "package 'acepack' successfully unpacked and MD5 sums checked\n",
      "package 'gridExtra' successfully unpacked and MD5 sums checked\n",
      "package 'htmlTable' successfully unpacked and MD5 sums checked\n",
      "package 'viridis' successfully unpacked and MD5 sums checked\n",
      "package 'AnnotationHub' successfully unpacked and MD5 sums checked\n",
      "package 'ProtGenerics' successfully unpacked and MD5 sums checked\n",
      "package 'bit' successfully unpacked and MD5 sums checked\n",
      "package 'lambda.r' successfully unpacked and MD5 sums checked\n",
      "package 'futile.options' successfully unpacked and MD5 sums checked\n",
      "package 'Hmisc' successfully unpacked and MD5 sums checked\n",
      "package 'VariantAnnotation' successfully unpacked and MD5 sums checked\n",
      "package 'ensembldb' successfully unpacked and MD5 sums checked\n",
      "package 'AnnotationFilter' successfully unpacked and MD5 sums checked\n",
      "package 'bit64' successfully unpacked and MD5 sums checked\n",
      "package 'blob' successfully unpacked and MD5 sums checked\n",
      "package 'memoise' successfully unpacked and MD5 sums checked\n",
      "package 'futile.logger' successfully unpacked and MD5 sums checked\n",
      "package 'snow' successfully unpacked and MD5 sums checked\n",
      "package 'XML' successfully unpacked and MD5 sums checked\n",
      "package 'DelayedArray' successfully unpacked and MD5 sums checked\n",
      "package 'limma' successfully unpacked and MD5 sums checked\n",
      "package 'BSgenome' successfully unpacked and MD5 sums checked\n",
      "package 'biovizBase' successfully unpacked and MD5 sums checked\n",
      "package 'latticeExtra' successfully unpacked and MD5 sums checked\n",
      "package 'graph' successfully unpacked and MD5 sums checked\n",
      "package 'Biobase' successfully unpacked and MD5 sums checked\n",
      "package 'matrixStats' successfully unpacked and MD5 sums checked\n",
      "package 'RSQLite' successfully unpacked and MD5 sums checked\n",
      "package 'zlibbioc' successfully unpacked and MD5 sums checked\n",
      "package 'BiocParallel' successfully unpacked and MD5 sums checked\n",
      "package 'gtools' successfully unpacked and MD5 sums checked\n",
      "package 'gdata' successfully unpacked and MD5 sums checked\n",
      "package 'RCurl' successfully unpacked and MD5 sums checked\n",
      "package 'rtracklayer' successfully unpacked and MD5 sums checked\n",
      "package 'biomaRt' successfully unpacked and MD5 sums checked\n",
      "package 'SummarizedExperiment' successfully unpacked and MD5 sums checked\n",
      "package 'marray' successfully unpacked and MD5 sums checked\n",
      "package 'Gviz' successfully unpacked and MD5 sums checked\n",
      "package 'GenomicAlignments' successfully unpacked and MD5 sums checked\n",
      "package 'topGO' successfully unpacked and MD5 sums checked\n",
      "package 'GenomicRanges' successfully unpacked and MD5 sums checked\n",
      "package 'AnnotationDbi' successfully unpacked and MD5 sums checked\n",
      "package 'BiocGenerics' successfully unpacked and MD5 sums checked\n",
      "package 'Biostrings' successfully unpacked and MD5 sums checked\n",
      "package 'Rsamtools' successfully unpacked and MD5 sums checked\n",
      "package 'gplots' successfully unpacked and MD5 sums checked\n",
      "package 'IRanges' successfully unpacked and MD5 sums checked\n",
      "package 'GenomicFeatures' successfully unpacked and MD5 sums checked\n",
      "package 'XVector' successfully unpacked and MD5 sums checked\n",
      "package 'methylPipe' successfully unpacked and MD5 sums checked\n",
      "package 'S4Vectors' successfully unpacked and MD5 sums checked\n",
      "package 'GenomeInfoDb' successfully unpacked and MD5 sums checked\n",
      "package 'compEpiTools' successfully unpacked and MD5 sums checked\n",
      "\n",
      "The downloaded binary packages are in\n",
      "\tC:\\Users\\Mustafa\\AppData\\Local\\Temp\\RtmpOOidMZ\\downloaded_packages\n"
     ]
    },
    {
     "name": "stderr",
     "output_type": "stream",
     "text": [
      "installing the source packages 'GenomeInfoDbData', 'GO.db'\n",
      "\n",
      "Old packages: 'rtracklayer', 'backports', 'BH', 'boot', 'car', 'caret',\n",
      "  'crayon', 'curl', 'DBI', 'dplyr', 'evaluate', 'foreign', 'glmnet', 'haven',\n",
      "  'htmlwidgets', 'httpuv', 'httr', 'knitr', 'lme4', 'Matrix', 'mgcv', 'modelr',\n",
      "  'openssl', 'psych', 'purrr', 'quantmod', 'R6', 'Rcpp', 'repr', 'rlang',\n",
      "  'rmarkdown', 'scales', 'shiny', 'tibble', 'tidyr', 'TTR', 'xts'\n"
     ]
    }
   ],
   "source": [
    "# install compEpiTools from bioconductor\n",
    "source(\"https://bioconductor.org/biocLite.R\")\n",
    "biocLite(\"compEpiTools\")"
   ]
  },
  {
   "cell_type": "code",
   "execution_count": 4,
   "metadata": {},
   "outputs": [
    {
     "name": "stderr",
     "output_type": "stream",
     "text": [
      "BioC_mirror: https://bioconductor.org\n",
      "Using Bioconductor 3.5 (BiocInstaller 1.26.1), R 3.4.1 (2017-06-30).\n",
      "Installing package(s) 'GenomicRanges'\n",
      "Warning message:\n",
      "\"package 'GenomicRanges' is in use and will not be installed\"Old packages: 'rtracklayer', 'backports', 'BH', 'boot', 'car', 'caret',\n",
      "  'crayon', 'curl', 'DBI', 'dplyr', 'evaluate', 'foreign', 'glmnet', 'haven',\n",
      "  'htmlwidgets', 'httpuv', 'httr', 'knitr', 'lme4', 'Matrix', 'mgcv', 'modelr',\n",
      "  'openssl', 'psych', 'purrr', 'quantmod', 'R6', 'Rcpp', 'repr', 'rlang',\n",
      "  'rmarkdown', 'scales', 'shiny', 'tibble', 'tidyr', 'TTR', 'xts'\n"
     ]
    }
   ],
   "source": [
    "# install 'GenomicRanges' package\n",
    "biocLite(\"GenomicRanges\")"
   ]
  },
  {
   "cell_type": "code",
   "execution_count": 12,
   "metadata": {},
   "outputs": [
    {
     "name": "stderr",
     "output_type": "stream",
     "text": [
      "BioC_mirror: https://bioconductor.org\n",
      "Using Bioconductor 3.5 (BiocInstaller 1.26.1), R 3.4.1 (2017-06-30).\n",
      "Installing package(s) 'TxDb.Mmusculus.UCSC.mm9.knownGene'\n",
      "installing the source package 'TxDb.Mmusculus.UCSC.mm9.knownGene'\n",
      "\n",
      "Old packages: 'rtracklayer', 'backports', 'BH', 'boot', 'car', 'caret',\n",
      "  'crayon', 'curl', 'DBI', 'dplyr', 'evaluate', 'foreign', 'glmnet', 'haven',\n",
      "  'htmlwidgets', 'httpuv', 'httr', 'knitr', 'lme4', 'Matrix', 'mgcv', 'modelr',\n",
      "  'openssl', 'psych', 'purrr', 'quantmod', 'R6', 'Rcpp', 'repr', 'rlang',\n",
      "  'rmarkdown', 'scales', 'shiny', 'tibble', 'tidyr', 'TTR', 'xts'\n"
     ]
    }
   ],
   "source": [
    "# install annotation package\n",
    "biocLite(\"TxDb.Mmusculus.UCSC.mm9.knownGene\")\n"
   ]
  },
  {
   "cell_type": "code",
   "execution_count": 16,
   "metadata": {},
   "outputs": [
    {
     "name": "stderr",
     "output_type": "stream",
     "text": [
      "BioC_mirror: https://bioconductor.org\n",
      "Using Bioconductor 3.5 (BiocInstaller 1.26.1), R 3.4.1 (2017-06-30).\n",
      "Installing package(s) 'org.Mm.eg.db'\n",
      "installing the source package 'org.Mm.eg.db'\n",
      "\n",
      "Old packages: 'rtracklayer', 'backports', 'BH', 'boot', 'car', 'caret',\n",
      "  'crayon', 'curl', 'DBI', 'dplyr', 'evaluate', 'foreign', 'glmnet', 'haven',\n",
      "  'htmlwidgets', 'httpuv', 'httr', 'knitr', 'lme4', 'Matrix', 'mgcv', 'modelr',\n",
      "  'openssl', 'psych', 'purrr', 'quantmod', 'R6', 'Rcpp', 'repr', 'rlang',\n",
      "  'rmarkdown', 'scales', 'shiny', 'tibble', 'tidyr', 'TTR', 'xts'\n"
     ]
    }
   ],
   "source": [
    "# install genome wide annotation for mouse\n",
    "\n",
    "biocLite('org.Mm.eg.db')"
   ]
  },
  {
   "cell_type": "code",
   "execution_count": 18,
   "metadata": {},
   "outputs": [],
   "source": [
    "# check if the packages are installed \n",
    "### NOTE: gene object from TxDb mask object with the same name in either `compEpiTools` or `GenomicRanges` associated package called `topGo`\n",
    "require('compEpiTools')\n",
    "require('GenomicRanges')\n",
    "require('TxDb.Mmusculus.UCSC.mm9.knownGene')\n",
    "require('org.Mm.eg.db')"
   ]
  },
  {
   "cell_type": "code",
   "execution_count": 19,
   "metadata": {},
   "outputs": [],
   "source": [
    "txdb = TxDb.Mmusculus.UCSC.mm9.knownGene"
   ]
  },
  {
   "cell_type": "code",
   "execution_count": 21,
   "metadata": {},
   "outputs": [],
   "source": [
    "bampath = system.file('extdata', 'ex1.bam', package='Rsamtools')"
   ]
  },
  {
   "cell_type": "code",
   "execution_count": 22,
   "metadata": {},
   "outputs": [
    {
     "data": {
      "text/html": [
       "'C:/Users/Mustafa/Documents/R/win-library/3.4/Rsamtools/extdata/ex1.bam'"
      ],
      "text/latex": [
       "'C:/Users/Mustafa/Documents/R/win-library/3.4/Rsamtools/extdata/ex1.bam'"
      ],
      "text/markdown": [
       "'C:/Users/Mustafa/Documents/R/win-library/3.4/Rsamtools/extdata/ex1.bam'"
      ],
      "text/plain": [
       "[1] \"C:/Users/Mustafa/Documents/R/win-library/3.4/Rsamtools/extdata/ex1.bam\""
      ]
     },
     "metadata": {},
     "output_type": "display_data"
    }
   ],
   "source": [
    "bampath"
   ]
  },
  {
   "cell_type": "code",
   "execution_count": 24,
   "metadata": {},
   "outputs": [],
   "source": [
    "ir = IRanges(start=c(1000,100), end=c(2000,1000))"
   ]
  },
  {
   "cell_type": "code",
   "execution_count": 25,
   "metadata": {},
   "outputs": [
    {
     "data": {
      "text/plain": [
       "IRanges object with 2 ranges and 0 metadata columns:\n",
       "          start       end     width\n",
       "      <integer> <integer> <integer>\n",
       "  [1]      1000      2000      1001\n",
       "  [2]       100      1000       901"
      ]
     },
     "metadata": {},
     "output_type": "display_data"
    }
   ],
   "source": [
    "ir"
   ]
  },
  {
   "cell_type": "code",
   "execution_count": null,
   "metadata": {
    "collapsed": true
   },
   "outputs": [],
   "source": []
  }
 ],
 "metadata": {
  "kernelspec": {
   "display_name": "R",
   "language": "R",
   "name": "ir"
  },
  "language_info": {
   "codemirror_mode": "r",
   "file_extension": ".r",
   "mimetype": "text/x-r-source",
   "name": "R",
   "pygments_lexer": "r",
   "version": "3.4.1"
  }
 },
 "nbformat": 4,
 "nbformat_minor": 2
}
